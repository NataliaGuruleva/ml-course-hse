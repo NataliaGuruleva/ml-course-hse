{
 "cells": [
  {
   "cell_type": "markdown",
   "metadata": {},
   "source": [
    "# Случайные леса\n",
    "__Суммарное количество баллов: 10__\n",
    "\n",
    "В этом задании вам предстоит реализовать ансамбль деревьев решений, известный как случайный лес, применить его к публичным данным пользователей социальной сети Вконтакте, и сравнить его эффективность с ансамблем, предоставляемым библиотекой CatBoost.\n",
    "\n",
    "В результате мы сможем определить, какие подписки пользователей больше всего влияют на определение возраста и пола человека. "
   ]
  },
  {
   "cell_type": "code",
   "execution_count": 1,
   "metadata": {},
   "outputs": [],
   "source": [
    "from sklearn.model_selection import train_test_split\n",
    "import numpy as np\n",
    "import pandas\n",
    "import random\n",
    "import matplotlib.pyplot as plt\n",
    "import matplotlib\n",
    "import copy\n",
    "from catboost import CatBoostClassifier"
   ]
  },
  {
   "cell_type": "code",
   "execution_count": 2,
   "metadata": {},
   "outputs": [],
   "source": [
    "from task import gini, entropy, gain"
   ]
  },
  {
   "cell_type": "markdown",
   "metadata": {},
   "source": [
    "### Задание 1 (2 балла)\n",
    "Random Forest состоит из деревьев решений. Каждое такое дерево строится на одной из выборок, полученных при помощи bagging. Элементы, которые не вошли в новую обучающую выборку, образуют out-of-bag выборку. Кроме того, в каждом узле дерева мы случайным образом выбираем набор из `max_features` и ищем признак для предиката разбиения только в этом наборе.\n",
    "\n",
    "Сегодня мы будем работать только с бинарными признаками, поэтому нет необходимости выбирать значение признака для разбиения.\n",
    "\n",
    "#### Методы\n",
    "`predict(X)` - возвращает предсказанные метки для элементов выборки `X`\n",
    "\n",
    "#### Параметры конструктора\n",
    "`X, y` - обучающая выборка и соответствующие ей метки классов. Из нее нужно получить выборку для построения дерева при помощи bagging. Out-of-bag выборку нужно запомнить, она понадобится потом.\n",
    "\n",
    "`criterion=\"gini\"` - задает критерий, который будет использоваться при построении дерева. Возможные значения: `\"gini\"`, `\"entropy\"`.\n",
    "\n",
    "`max_depth=None` - ограничение глубины дерева. Если `None` - глубина не ограничена\n",
    "\n",
    "`min_samples_leaf=1` - минимальное количество элементов в каждом листе дерева.\n",
    "\n",
    "`max_features=\"auto\"` - количество признаков, которые могут использоваться в узле. Если `\"auto\"` - равно `sqrt(X.shape[1])`"
   ]
  },
  {
   "cell_type": "code",
   "execution_count": 3,
   "metadata": {},
   "outputs": [],
   "source": [
    "from task import DecisionTree"
   ]
  },
  {
   "cell_type": "markdown",
   "metadata": {},
   "source": [
    "### Задание 2 (2 балла)\n",
    "Теперь реализуем сам Random Forest. Идея очень простая: строим `n` деревьев, а затем берем модальное предсказание.\n",
    "\n",
    "#### Параметры конструктора\n",
    "`n_estimators` - количество используемых для предсказания деревьев.\n",
    "\n",
    "Остальное - параметры деревьев.\n",
    "\n",
    "#### Методы\n",
    "`fit(X, y)` - строит `n_estimators` деревьев по выборке `X`.\n",
    "\n",
    "`predict(X)` - для каждого элемента выборки `X` возвращает самый частый класс, который предсказывают для него деревья."
   ]
  },
  {
   "cell_type": "code",
   "execution_count": 4,
   "metadata": {},
   "outputs": [],
   "source": [
    "from task import RandomForestClassifier"
   ]
  },
  {
   "cell_type": "markdown",
   "metadata": {},
   "source": [
    "### Задание 3 (2 балла)\n",
    "Часто хочется понимать, насколько большую роль играет тот или иной признак для предсказания класса объекта. Есть различные способы посчитать его важность. Один из простых способов сделать это для Random Forest - посчитать out-of-bag ошибку предсказания `err_oob`, а затем перемешать значения признака `j` и посчитать ее (`err_oob_j`) еще раз. Оценкой важности признака `j` для одного дерева будет разность `err_oob_j - err_oob`, важность для всего леса считается как среднее значение важности по деревьям.\n",
    "\n",
    "Реализуйте функцию `feature_importance`, которая принимает на вход Random Forest и возвращает массив, в котором содержится важность для каждого признака."
   ]
  },
  {
   "cell_type": "code",
   "execution_count": 5,
   "metadata": {},
   "outputs": [],
   "source": [
    "from task import feature_importance\n",
    "#    raise NotImplementedError()\n",
    "\n",
    "def most_important_features(importance, names, k=20):\n",
    "    # Выводит названия k самых важных признаков\n",
    "    idicies = np.argsort(importance)[::-1][:k]\n",
    "    return np.array(names)[idicies]"
   ]
  },
  {
   "cell_type": "markdown",
   "metadata": {},
   "source": [
    "Наконец, пришло время протестировать наше дерево на простом синтетическом наборе данных. В результате точность должна быть примерно равна `1.0`, наибольшее значение важности должно быть у признака с индексом `4`, признаки с индексами `2` и `3`  должны быть одинаково важны, а остальные признаки - не важны совсем."
   ]
  },
  {
   "cell_type": "code",
   "execution_count": 6,
   "metadata": {},
   "outputs": [
    {
     "name": "stdout",
     "output_type": "stream",
     "text": [
      "Accuracy: 1.0\n",
      "Importance: [1.17338369e-04 8.49832084e-04 1.61981144e-01 1.59680014e-01\n",
      " 3.29412099e-01 2.32260937e-03]\n"
     ]
    }
   ],
   "source": [
    "def synthetic_dataset(size):\n",
    "    X = [(np.random.randint(0, 2), np.random.randint(0, 2), i % 6 == 3, \n",
    "          i % 6 == 0, i % 3 == 2, np.random.randint(0, 2)) for i in range(size)]\n",
    "    y = [i % 3 for i in range(size)]\n",
    "    return np.array(X), np.array(y)\n",
    "\n",
    "X, y = synthetic_dataset(1000)\n",
    "rfc = RandomForestClassifier(n_estimators=100)\n",
    "rfc.fit(X, y)\n",
    "print(\"Accuracy:\", np.mean(rfc.predict(X) == y))\n",
    "print(\"Importance:\", feature_importance(rfc))"
   ]
  },
  {
   "cell_type": "code",
   "execution_count": 7,
   "metadata": {},
   "outputs": [],
   "source": [
    "cl = ['a', 'b', 'c']\n",
    "yy = np.array([cl[i] for i in y])"
   ]
  },
  {
   "cell_type": "code",
   "execution_count": 8,
   "metadata": {},
   "outputs": [
    {
     "name": "stdout",
     "output_type": "stream",
     "text": [
      "Accuracy: 1.0\n",
      "Importance: [6.98009468e-04 6.10386839e-04 1.53131189e-01 1.55185644e-01\n",
      " 3.26488977e-01 1.22283437e-04]\n"
     ]
    }
   ],
   "source": [
    "rfc = RandomForestClassifier(n_estimators=100)\n",
    "rfc.fit(X, yy)\n",
    "print(\"Accuracy:\", np.mean(rfc.predict(X) == yy))\n",
    "print(\"Importance:\", feature_importance(rfc))"
   ]
  },
  {
   "cell_type": "code",
   "execution_count": 9,
   "metadata": {},
   "outputs": [
    {
     "data": {
      "text/plain": [
       "array([False, False, False,  True,  True,  True, False, False, False,\n",
       "        True,  True, False, False,  True, False,  True, False,  True,\n",
       "       False, False, False,  True,  True, False,  True, False,  True,\n",
       "        True, False, False,  True, False,  True, False, False, False,\n",
       "       False, False, False,  True, False,  True,  True,  True, False,\n",
       "        True, False,  True,  True, False,  True, False,  True, False,\n",
       "        True, False,  True,  True,  True,  True, False, False, False,\n",
       "        True,  True, False, False,  True,  True, False,  True, False,\n",
       "        True, False,  True,  True, False,  True,  True, False, False,\n",
       "        True, False,  True, False,  True, False, False,  True, False,\n",
       "        True, False, False, False, False, False, False,  True, False,\n",
       "       False,  True,  True,  True,  True, False,  True, False,  True,\n",
       "       False,  True, False, False,  True,  True, False,  True, False,\n",
       "        True, False, False,  True,  True, False, False,  True,  True,\n",
       "       False,  True, False,  True, False, False, False,  True,  True,\n",
       "       False, False, False,  True, False, False,  True, False,  True,\n",
       "       False, False,  True, False,  True,  True, False, False, False,\n",
       "        True, False, False,  True,  True, False, False,  True, False,\n",
       "        True,  True, False, False,  True, False,  True, False,  True,\n",
       "        True,  True,  True,  True,  True, False, False,  True,  True,\n",
       "       False,  True,  True,  True, False,  True, False,  True, False,\n",
       "       False, False, False,  True, False, False, False,  True, False,\n",
       "        True, False,  True,  True, False, False,  True, False,  True,\n",
       "        True, False, False,  True,  True,  True, False, False, False,\n",
       "       False, False,  True,  True, False,  True,  True,  True,  True,\n",
       "       False, False, False, False, False, False, False, False, False,\n",
       "       False,  True, False, False, False,  True, False, False, False,\n",
       "        True, False,  True,  True, False, False,  True,  True,  True,\n",
       "       False,  True, False, False,  True,  True, False, False,  True,\n",
       "       False,  True, False, False, False, False, False,  True, False,\n",
       "       False, False, False,  True, False, False, False, False,  True,\n",
       "       False, False,  True,  True, False,  True,  True,  True,  True,\n",
       "        True,  True,  True, False,  True, False,  True,  True,  True,\n",
       "       False, False, False, False, False,  True,  True, False, False,\n",
       "       False,  True, False,  True, False,  True, False, False, False,\n",
       "        True, False,  True, False, False, False, False, False, False,\n",
       "        True,  True, False, False, False, False, False, False, False,\n",
       "        True, False,  True, False,  True, False, False,  True, False,\n",
       "       False, False,  True, False, False, False, False, False,  True,\n",
       "       False,  True, False, False,  True, False,  True,  True,  True,\n",
       "        True,  True, False,  True, False,  True, False,  True,  True,\n",
       "        True, False, False,  True,  True, False,  True,  True, False,\n",
       "       False,  True, False, False,  True, False,  True])"
      ]
     },
     "execution_count": 9,
     "metadata": {},
     "output_type": "execute_result"
    }
   ],
   "source": [
    "rfc.trees[0].predict(rfc.trees[0].X_oob) == rfc.trees[0].y_oob"
   ]
  },
  {
   "cell_type": "markdown",
   "metadata": {},
   "source": [
    "### Задание 4 (3 балла)\n",
    "Теперь поработаем с реальными данными.\n",
    "\n",
    "Выборка состоит из публичных анонимизированных данных пользователей социальной сети Вконтакте. Первые два столбца отражают возрастную группу (`zoomer`, `doomer` и `boomer`) и пол (`female`, `male`). Все остальные столбцы являются бинарными признаками, каждый из них определяет, подписан ли пользователь на определенную группу/публичную страницу или нет.\\\n",
    "\\\n",
    "Необходимо обучить два классификатора, один из которых определяет возрастную группу, а второй - пол.\\\n",
    "\\\n",
    "Эксперименты с множеством используемых признаков и подбор гиперпараметров приветствуются. Лес должен строиться за какое-то разумное время.\n",
    "\n",
    "Оценка:\n",
    "1. 1 балл за исправно работающий код\n",
    "2. +1 балл за точность предсказания возростной группы выше 65%\n",
    "3. +1 балл за точность предсказания пола выше 75%"
   ]
  },
  {
   "cell_type": "code",
   "execution_count": 16,
   "metadata": {},
   "outputs": [],
   "source": [
    "def read_dataset(path):\n",
    "    dataframe = pandas.read_csv(path, header=0)\n",
    "    dataset = dataframe.values.tolist()\n",
    "    random.shuffle(dataset)\n",
    "    y_age = [row[0] for row in dataset]\n",
    "    y_sex = [row[1] for row in dataset]\n",
    "    X = [row[2:] for row in dataset]\n",
    "    \n",
    "    return np.array(X), np.array(y_age), np.array(y_sex), list(dataframe.columns)[2:]"
   ]
  },
  {
   "cell_type": "code",
   "execution_count": 17,
   "metadata": {},
   "outputs": [],
   "source": [
    "X, y_age, y_sex, features = read_dataset(\"vk.csv\")\n",
    "X_train, X_test, y_age_train, y_age_test, y_sex_train, y_sex_test = train_test_split(X, y_age, y_sex, train_size=0.9)"
   ]
  },
  {
   "cell_type": "code",
   "execution_count": 18,
   "metadata": {},
   "outputs": [
    {
     "data": {
      "text/plain": [
       "(7924, 149)"
      ]
     },
     "execution_count": 18,
     "metadata": {},
     "output_type": "execute_result"
    }
   ],
   "source": [
    "X.shape"
   ]
  },
  {
   "cell_type": "code",
   "execution_count": 19,
   "metadata": {},
   "outputs": [],
   "source": [
    "from time import time"
   ]
  },
  {
   "cell_type": "code",
   "execution_count": null,
   "metadata": {},
   "outputs": [],
   "source": []
  },
  {
   "cell_type": "markdown",
   "metadata": {},
   "source": [
    "#### Возраст"
   ]
  },
  {
   "cell_type": "code",
   "execution_count": 21,
   "metadata": {},
   "outputs": [
    {
     "name": "stdout",
     "output_type": "stream",
     "text": [
      "Accuracy: 0.6418663303909206\n",
      "Most important features:\n",
      "1. ovsyanochan\n",
      "2. mudakoff\n",
      "3. 4ch\n",
      "4. styd.pozor\n",
      "5. rhymes\n",
      "6. dayvinchik\n",
      "7. pixel_stickers\n",
      "8. tumblr_vacuum\n",
      "9. reflexia_our_feelings\n",
      "10. iwantyou\n",
      "11. rapnewrap\n",
      "12. pravdashowtop\n",
      "13. xfilm\n",
      "14. leprum\n",
      "15. ohhluul\n",
      "16. memeboizz\n",
      "17. pustota_diary\n",
      "18. ne.poverish\n",
      "19. i_d_t\n",
      "20. ne1party\n",
      "time 249.47034692764282\n"
     ]
    }
   ],
   "source": [
    "from task import rfc_age\n",
    "start = time()\n",
    "rfc_age.fit(X_train, y_age_train)\n",
    "print(\"Accuracy:\", np.mean(rfc_age.predict(X_test) == y_age_test))\n",
    "print(\"Most important features:\")\n",
    "for i, name in enumerate(most_important_features(feature_importance(rfc_age), features, 20)):\n",
    "    print(str(i+1) + \".\", name)\n",
    "end = time()\n",
    "print(\"time\", end-start)"
   ]
  },
  {
   "cell_type": "markdown",
   "metadata": {},
   "source": [
    "#### Пол"
   ]
  },
  {
   "cell_type": "code",
   "execution_count": 22,
   "metadata": {},
   "outputs": [
    {
     "name": "stdout",
     "output_type": "stream",
     "text": [
      "Accuracy: 0.8537200504413619\n",
      "Most important features:\n",
      "1. 40kg\n",
      "2. girlmeme\n",
      "3. modnailru\n",
      "4. zerofat\n",
      "5. mudakoff\n",
      "6. igm\n",
      "7. 9o_6o_9o\n",
      "8. rapnewrap\n",
      "9. femalemem\n",
      "10. i_d_t\n",
      "11. cook_good\n",
      "12. thesmolny\n",
      "13. be.women\n",
      "14. bot_maxim\n",
      "15. be.beauty\n",
      "16. reflexia_our_feelings\n",
      "17. beauty\n",
      "18. combovine\n",
      "19. bon\n",
      "20. 4ch\n"
     ]
    }
   ],
   "source": [
    "from task import rfc_gender\n",
    "\n",
    "rfc_gender = RandomForestClassifier(n_estimators=10)\n",
    "rfc_gender.fit(X_train, y_sex_train)\n",
    "print(\"Accuracy:\", np.mean(rfc_gender.predict(X_test) == y_sex_test))\n",
    "print(\"Most important features:\")\n",
    "for i, name in enumerate(most_important_features(feature_importance(rfc_gender), features, 20)):\n",
    "    print(str(i+1) + \".\", name)"
   ]
  },
  {
   "cell_type": "markdown",
   "metadata": {},
   "source": [
    "### CatBoost\n",
    "В качестве аьтернативы попробуем CatBoost. \n",
    "\n",
    "Устаниовить его можно просто с помощью `pip install catboost`. Туториалы можно найти, например, [здесь](https://catboost.ai/docs/concepts/python-usages-examples.html#multiclassification) и [здесь](https://github.com/catboost/tutorials/blob/master/python_tutorial.ipynb). Главное - не забудьте использовать `loss_function='MultiClass'`.\\\n",
    "\\\n",
    "Сначала протестируйте CatBoost на синтетических данных. Выведите точность и важность признаков."
   ]
  },
  {
   "cell_type": "code",
   "execution_count": 27,
   "metadata": {},
   "outputs": [
    {
     "name": "stdout",
     "output_type": "stream",
     "text": [
      "0:\tlearn: 0.9209051\ttotal: 824us\tremaining: 81.6ms\n",
      "1:\tlearn: 0.7818043\ttotal: 1.71ms\tremaining: 83.9ms\n",
      "2:\tlearn: 0.6756673\ttotal: 2.29ms\tremaining: 74.2ms\n",
      "3:\tlearn: 0.5891762\ttotal: 2.93ms\tremaining: 70.3ms\n",
      "4:\tlearn: 0.5151783\ttotal: 3.54ms\tremaining: 67.4ms\n",
      "5:\tlearn: 0.4530725\ttotal: 4ms\tremaining: 62.6ms\n",
      "6:\tlearn: 0.4003092\ttotal: 4.44ms\tremaining: 59ms\n",
      "7:\tlearn: 0.3564962\ttotal: 5ms\tremaining: 57.5ms\n",
      "8:\tlearn: 0.3185006\ttotal: 5.58ms\tremaining: 56.5ms\n",
      "9:\tlearn: 0.2841434\ttotal: 6.1ms\tremaining: 54.9ms\n",
      "10:\tlearn: 0.2552337\ttotal: 6.68ms\tremaining: 54.1ms\n",
      "11:\tlearn: 0.2287282\ttotal: 7.16ms\tremaining: 52.5ms\n",
      "12:\tlearn: 0.2063578\ttotal: 7.71ms\tremaining: 51.6ms\n",
      "13:\tlearn: 0.1855926\ttotal: 8.19ms\tremaining: 50.3ms\n",
      "14:\tlearn: 0.1680711\ttotal: 8.73ms\tremaining: 49.5ms\n",
      "15:\tlearn: 0.1524595\ttotal: 9.29ms\tremaining: 48.8ms\n",
      "16:\tlearn: 0.1418847\ttotal: 10.2ms\tremaining: 50ms\n",
      "17:\tlearn: 0.1290646\ttotal: 10.8ms\tremaining: 49.2ms\n",
      "18:\tlearn: 0.1168278\ttotal: 11.3ms\tremaining: 48.1ms\n",
      "19:\tlearn: 0.1058813\ttotal: 11.7ms\tremaining: 47ms\n",
      "20:\tlearn: 0.0960752\ttotal: 12.2ms\tremaining: 46ms\n",
      "21:\tlearn: 0.0872794\ttotal: 12.7ms\tremaining: 45ms\n",
      "22:\tlearn: 0.0800246\ttotal: 13.2ms\tremaining: 44.3ms\n",
      "23:\tlearn: 0.0728597\ttotal: 13.7ms\tremaining: 43.4ms\n",
      "24:\tlearn: 0.0664133\ttotal: 14.2ms\tremaining: 42.5ms\n",
      "25:\tlearn: 0.0606080\ttotal: 14.7ms\tremaining: 41.7ms\n",
      "26:\tlearn: 0.0553758\ttotal: 15.1ms\tremaining: 40.9ms\n",
      "27:\tlearn: 0.0528351\ttotal: 16.1ms\tremaining: 41.4ms\n",
      "28:\tlearn: 0.0483633\ttotal: 16.6ms\tremaining: 40.6ms\n",
      "29:\tlearn: 0.0455176\ttotal: 17.3ms\tremaining: 40.4ms\n",
      "30:\tlearn: 0.0422393\ttotal: 17.8ms\tremaining: 39.7ms\n",
      "31:\tlearn: 0.0392581\ttotal: 18.4ms\tremaining: 39.1ms\n",
      "32:\tlearn: 0.0360925\ttotal: 18.9ms\tremaining: 38.3ms\n",
      "33:\tlearn: 0.0336591\ttotal: 19.4ms\tremaining: 37.7ms\n",
      "34:\tlearn: 0.0310222\ttotal: 19.9ms\tremaining: 37ms\n",
      "35:\tlearn: 0.0286317\ttotal: 20.4ms\tremaining: 36.2ms\n",
      "36:\tlearn: 0.0264628\ttotal: 20.9ms\tremaining: 35.5ms\n",
      "37:\tlearn: 0.0252823\ttotal: 21.6ms\tremaining: 35.2ms\n",
      "38:\tlearn: 0.0237724\ttotal: 22.1ms\tremaining: 34.6ms\n",
      "39:\tlearn: 0.0223860\ttotal: 22.7ms\tremaining: 34ms\n",
      "40:\tlearn: 0.0211119\ttotal: 23.2ms\tremaining: 33.4ms\n",
      "41:\tlearn: 0.0196278\ttotal: 23.7ms\tremaining: 32.7ms\n",
      "42:\tlearn: 0.0185710\ttotal: 24.2ms\tremaining: 32.1ms\n",
      "43:\tlearn: 0.0175950\ttotal: 24.8ms\tremaining: 31.5ms\n",
      "44:\tlearn: 0.0164214\ttotal: 25.2ms\tremaining: 30.9ms\n",
      "45:\tlearn: 0.0156069\ttotal: 25.8ms\tremaining: 30.3ms\n",
      "46:\tlearn: 0.0146050\ttotal: 26.3ms\tremaining: 29.6ms\n",
      "47:\tlearn: 0.0136882\ttotal: 26.7ms\tremaining: 29ms\n",
      "48:\tlearn: 0.0132787\ttotal: 27.5ms\tremaining: 28.6ms\n",
      "49:\tlearn: 0.0126875\ttotal: 28ms\tremaining: 28ms\n",
      "50:\tlearn: 0.0123292\ttotal: 28.7ms\tremaining: 27.6ms\n",
      "51:\tlearn: 0.0116017\ttotal: 29.2ms\tremaining: 27ms\n",
      "52:\tlearn: 0.0109332\ttotal: 29.7ms\tremaining: 26.3ms\n",
      "53:\tlearn: 0.0104963\ttotal: 30.2ms\tremaining: 25.7ms\n",
      "54:\tlearn: 0.0100868\ttotal: 30.8ms\tremaining: 25.2ms\n",
      "55:\tlearn: 0.0099471\ttotal: 31.7ms\tremaining: 24.9ms\n",
      "56:\tlearn: 0.0095714\ttotal: 32.2ms\tremaining: 24.3ms\n",
      "57:\tlearn: 0.0092183\ttotal: 32.8ms\tremaining: 23.7ms\n",
      "58:\tlearn: 0.0087368\ttotal: 33.3ms\tremaining: 23.1ms\n",
      "59:\tlearn: 0.0082915\ttotal: 33.7ms\tremaining: 22.5ms\n",
      "60:\tlearn: 0.0081213\ttotal: 34.4ms\tremaining: 22ms\n",
      "61:\tlearn: 0.0078514\ttotal: 35ms\tremaining: 21.4ms\n",
      "62:\tlearn: 0.0075963\ttotal: 35.5ms\tremaining: 20.9ms\n",
      "63:\tlearn: 0.0073549\ttotal: 36.1ms\tremaining: 20.3ms\n",
      "64:\tlearn: 0.0072170\ttotal: 36.8ms\tremaining: 19.8ms\n",
      "65:\tlearn: 0.0068822\ttotal: 37.2ms\tremaining: 19.2ms\n",
      "66:\tlearn: 0.0065707\ttotal: 37.7ms\tremaining: 18.6ms\n",
      "67:\tlearn: 0.0062805\ttotal: 38.2ms\tremaining: 18ms\n",
      "68:\tlearn: 0.0061776\ttotal: 38.9ms\tremaining: 17.5ms\n",
      "69:\tlearn: 0.0060073\ttotal: 39.5ms\tremaining: 16.9ms\n",
      "70:\tlearn: 0.0058450\ttotal: 40ms\tremaining: 16.3ms\n",
      "71:\tlearn: 0.0057549\ttotal: 40.7ms\tremaining: 15.8ms\n",
      "72:\tlearn: 0.0055188\ttotal: 41.2ms\tremaining: 15.2ms\n",
      "73:\tlearn: 0.0052977\ttotal: 41.7ms\tremaining: 14.6ms\n",
      "74:\tlearn: 0.0052226\ttotal: 42.4ms\tremaining: 14.1ms\n",
      "75:\tlearn: 0.0051493\ttotal: 43.1ms\tremaining: 13.6ms\n",
      "76:\tlearn: 0.0049514\ttotal: 43.5ms\tremaining: 13ms\n",
      "77:\tlearn: 0.0048355\ttotal: 44.1ms\tremaining: 12.4ms\n",
      "78:\tlearn: 0.0046566\ttotal: 44.6ms\tremaining: 11.8ms\n",
      "79:\tlearn: 0.0044882\ttotal: 45ms\tremaining: 11.3ms\n",
      "80:\tlearn: 0.0043908\ttotal: 45.6ms\tremaining: 10.7ms\n",
      "81:\tlearn: 0.0042378\ttotal: 46.1ms\tremaining: 10.1ms\n",
      "82:\tlearn: 0.0041498\ttotal: 46.6ms\tremaining: 9.54ms\n",
      "83:\tlearn: 0.0040650\ttotal: 47.1ms\tremaining: 8.98ms\n",
      "84:\tlearn: 0.0039302\ttotal: 47.6ms\tremaining: 8.4ms\n",
      "85:\tlearn: 0.0038028\ttotal: 48.1ms\tremaining: 7.83ms\n",
      "86:\tlearn: 0.0036821\ttotal: 48.6ms\tremaining: 7.26ms\n",
      "87:\tlearn: 0.0035678\ttotal: 49.1ms\tremaining: 6.69ms\n",
      "88:\tlearn: 0.0035032\ttotal: 49.6ms\tremaining: 6.13ms\n",
      "89:\tlearn: 0.0033981\ttotal: 50.1ms\tremaining: 5.56ms\n",
      "90:\tlearn: 0.0033390\ttotal: 50.6ms\tremaining: 5.01ms\n",
      "91:\tlearn: 0.0033073\ttotal: 51.3ms\tremaining: 4.46ms\n",
      "92:\tlearn: 0.0032119\ttotal: 51.8ms\tremaining: 3.9ms\n",
      "93:\tlearn: 0.0031585\ttotal: 52.3ms\tremaining: 3.34ms\n",
      "94:\tlearn: 0.0030704\ttotal: 52.8ms\tremaining: 2.78ms\n",
      "95:\tlearn: 0.0030213\ttotal: 53.3ms\tremaining: 2.22ms\n",
      "96:\tlearn: 0.0029736\ttotal: 53.9ms\tremaining: 1.67ms\n",
      "97:\tlearn: 0.0029483\ttotal: 54.6ms\tremaining: 1.11ms\n",
      "98:\tlearn: 0.0028700\ttotal: 55.1ms\tremaining: 556us\n",
      "99:\tlearn: 0.0028463\ttotal: 55.7ms\tremaining: 0us\n",
      "Accuracy: 0.333334\n",
      "Importance: [4.51567770e-03 7.12544916e-03 2.78573625e+01 2.78689526e+01\n",
      " 4.42563872e+01 5.65653965e-03]\n"
     ]
    }
   ],
   "source": [
    "X, y = synthetic_dataset(1000)\n",
    "clf.fit(X, y)\n",
    "y_pred = clf.predict(X)\n",
    "print(\"Accuracy:\", np.mean(y_pred == y))\n",
    "print(\"Importance:\", clf.feature_importances_)"
   ]
  },
  {
   "cell_type": "code",
   "execution_count": null,
   "metadata": {},
   "outputs": [],
   "source": [
    "clf.feature_importances_"
   ]
  },
  {
   "cell_type": "markdown",
   "metadata": {},
   "source": [
    "### Задание 5 (3 балла)\n",
    "Попробуем применить один из используемых на практике алгоритмов. В этом нам поможет CatBoost. Также, как и реализованный ними RandomForest, применим его для определения пола и возраста пользователей сети Вконтакте, выведите названия наиболее важных признаков так же, как в задании 3.\\\n",
    "\\\n",
    "Эксперименты с множеством используемых признаков и подбор гиперпараметров приветствуются.\n",
    "\n",
    "Оценка:\n",
    "1. 1 балл за исправно работающий код\n",
    "2. +1 балл за точность предсказания возростной группы выше 65%\n",
    "3. +1 балл за точность предсказания пола выше 75%"
   ]
  },
  {
   "cell_type": "code",
   "execution_count": 91,
   "metadata": {},
   "outputs": [],
   "source": [
    "clf = CatBoostClassifier(n_estimators=200, min_data_in_leaf=20, max_depth=10, loss_function='MultiClass')"
   ]
  },
  {
   "cell_type": "code",
   "execution_count": 101,
   "metadata": {},
   "outputs": [],
   "source": [
    "X, y_age, y_sex, features = read_dataset(\"vk.csv\")\n",
    "X_train, X_test, y_age_train, y_age_test, y_sex_train, y_sex_test = train_test_split(X, y_age, y_sex, train_size=0.9)\n",
    "X_train, X_eval, y_age_train, y_age_eval, y_sex_train, y_sex_eval = train_test_split(X_train, y_age_train, y_sex_train, train_size=0.8)"
   ]
  },
  {
   "cell_type": "markdown",
   "metadata": {},
   "source": [
    "#### Возраст"
   ]
  },
  {
   "cell_type": "code",
   "execution_count": 80,
   "metadata": {},
   "outputs": [
    {
     "data": {
      "text/plain": [
       "0.7477931904161412"
      ]
     },
     "execution_count": 80,
     "metadata": {},
     "output_type": "execute_result"
    }
   ],
   "source": [
    "np.mean(y_pred.flatten() == y_age_test)"
   ]
  },
  {
   "cell_type": "code",
   "execution_count": 93,
   "metadata": {},
   "outputs": [
    {
     "name": "stdout",
     "output_type": "stream",
     "text": [
      "Learning rate set to 0.336913\n",
      "0:\tlearn: 0.9818203\ttotal: 138ms\tremaining: 27.4s\n",
      "1:\tlearn: 0.9088327\ttotal: 283ms\tremaining: 28.1s\n",
      "2:\tlearn: 0.8597561\ttotal: 435ms\tremaining: 28.6s\n",
      "3:\tlearn: 0.8152467\ttotal: 593ms\tremaining: 29.1s\n",
      "4:\tlearn: 0.7817335\ttotal: 751ms\tremaining: 29.3s\n",
      "5:\tlearn: 0.7590963\ttotal: 918ms\tremaining: 29.7s\n",
      "6:\tlearn: 0.7375611\ttotal: 1.07s\tremaining: 29.6s\n",
      "7:\tlearn: 0.7153442\ttotal: 1.22s\tremaining: 29.4s\n",
      "8:\tlearn: 0.6981209\ttotal: 1.38s\tremaining: 29.3s\n",
      "9:\tlearn: 0.6809334\ttotal: 1.54s\tremaining: 29.2s\n",
      "10:\tlearn: 0.6666808\ttotal: 1.68s\tremaining: 28.9s\n",
      "11:\tlearn: 0.6540741\ttotal: 1.83s\tremaining: 28.7s\n",
      "12:\tlearn: 0.6425774\ttotal: 1.98s\tremaining: 28.5s\n",
      "13:\tlearn: 0.6316478\ttotal: 2.12s\tremaining: 28.2s\n",
      "14:\tlearn: 0.6220928\ttotal: 2.26s\tremaining: 27.9s\n",
      "15:\tlearn: 0.6137078\ttotal: 2.41s\tremaining: 27.7s\n",
      "16:\tlearn: 0.6057425\ttotal: 2.57s\tremaining: 27.7s\n",
      "17:\tlearn: 0.5977851\ttotal: 2.72s\tremaining: 27.5s\n",
      "18:\tlearn: 0.5902669\ttotal: 2.87s\tremaining: 27.4s\n",
      "19:\tlearn: 0.5815729\ttotal: 3.03s\tremaining: 27.3s\n",
      "20:\tlearn: 0.5763323\ttotal: 3.17s\tremaining: 27s\n",
      "21:\tlearn: 0.5699490\ttotal: 3.3s\tremaining: 26.7s\n",
      "22:\tlearn: 0.5634884\ttotal: 3.44s\tremaining: 26.5s\n",
      "23:\tlearn: 0.5564887\ttotal: 3.59s\tremaining: 26.3s\n",
      "24:\tlearn: 0.5505193\ttotal: 3.73s\tremaining: 26.1s\n",
      "25:\tlearn: 0.5450575\ttotal: 3.88s\tremaining: 25.9s\n",
      "26:\tlearn: 0.5384729\ttotal: 4.02s\tremaining: 25.7s\n",
      "27:\tlearn: 0.5333754\ttotal: 4.16s\tremaining: 25.5s\n",
      "28:\tlearn: 0.5277971\ttotal: 4.29s\tremaining: 25.3s\n",
      "29:\tlearn: 0.5211264\ttotal: 4.44s\tremaining: 25.1s\n",
      "30:\tlearn: 0.5163903\ttotal: 4.58s\tremaining: 25s\n",
      "31:\tlearn: 0.5111555\ttotal: 4.73s\tremaining: 24.8s\n",
      "32:\tlearn: 0.5051456\ttotal: 4.88s\tremaining: 24.7s\n",
      "33:\tlearn: 0.4999328\ttotal: 5.03s\tremaining: 24.6s\n",
      "34:\tlearn: 0.4948218\ttotal: 5.17s\tremaining: 24.4s\n",
      "35:\tlearn: 0.4894231\ttotal: 5.31s\tremaining: 24.2s\n",
      "36:\tlearn: 0.4842661\ttotal: 5.45s\tremaining: 24s\n",
      "37:\tlearn: 0.4798026\ttotal: 5.59s\tremaining: 23.8s\n",
      "38:\tlearn: 0.4758734\ttotal: 5.74s\tremaining: 23.7s\n",
      "39:\tlearn: 0.4713485\ttotal: 5.88s\tremaining: 23.5s\n",
      "40:\tlearn: 0.4668942\ttotal: 6.02s\tremaining: 23.3s\n",
      "41:\tlearn: 0.4621384\ttotal: 6.16s\tremaining: 23.2s\n",
      "42:\tlearn: 0.4578999\ttotal: 6.3s\tremaining: 23s\n",
      "43:\tlearn: 0.4539385\ttotal: 6.45s\tremaining: 22.9s\n",
      "44:\tlearn: 0.4500284\ttotal: 6.58s\tremaining: 22.7s\n",
      "45:\tlearn: 0.4461806\ttotal: 6.73s\tremaining: 22.5s\n",
      "46:\tlearn: 0.4422319\ttotal: 6.88s\tremaining: 22.4s\n",
      "47:\tlearn: 0.4389652\ttotal: 7.03s\tremaining: 22.3s\n",
      "48:\tlearn: 0.4358487\ttotal: 7.17s\tremaining: 22.1s\n",
      "49:\tlearn: 0.4331260\ttotal: 7.31s\tremaining: 21.9s\n",
      "50:\tlearn: 0.4300913\ttotal: 7.46s\tremaining: 21.8s\n",
      "51:\tlearn: 0.4264232\ttotal: 7.6s\tremaining: 21.6s\n",
      "52:\tlearn: 0.4224895\ttotal: 7.74s\tremaining: 21.5s\n",
      "53:\tlearn: 0.4189332\ttotal: 7.88s\tremaining: 21.3s\n",
      "54:\tlearn: 0.4157877\ttotal: 8.03s\tremaining: 21.2s\n",
      "55:\tlearn: 0.4135964\ttotal: 8.16s\tremaining: 21s\n",
      "56:\tlearn: 0.4105060\ttotal: 8.31s\tremaining: 20.9s\n",
      "57:\tlearn: 0.4078578\ttotal: 8.46s\tremaining: 20.7s\n",
      "58:\tlearn: 0.4050785\ttotal: 8.6s\tremaining: 20.6s\n",
      "59:\tlearn: 0.4026399\ttotal: 8.74s\tremaining: 20.4s\n",
      "60:\tlearn: 0.3997676\ttotal: 8.87s\tremaining: 20.2s\n",
      "61:\tlearn: 0.3967707\ttotal: 9.02s\tremaining: 20.1s\n",
      "62:\tlearn: 0.3937071\ttotal: 9.16s\tremaining: 19.9s\n",
      "63:\tlearn: 0.3911484\ttotal: 9.29s\tremaining: 19.8s\n",
      "64:\tlearn: 0.3882417\ttotal: 9.44s\tremaining: 19.6s\n",
      "65:\tlearn: 0.3852406\ttotal: 9.59s\tremaining: 19.5s\n",
      "66:\tlearn: 0.3827337\ttotal: 9.74s\tremaining: 19.3s\n",
      "67:\tlearn: 0.3794242\ttotal: 9.88s\tremaining: 19.2s\n",
      "68:\tlearn: 0.3769949\ttotal: 10s\tremaining: 19s\n",
      "69:\tlearn: 0.3741184\ttotal: 10.2s\tremaining: 18.9s\n",
      "70:\tlearn: 0.3718660\ttotal: 10.3s\tremaining: 18.7s\n",
      "71:\tlearn: 0.3692047\ttotal: 10.4s\tremaining: 18.6s\n",
      "72:\tlearn: 0.3670825\ttotal: 10.6s\tremaining: 18.4s\n",
      "73:\tlearn: 0.3641879\ttotal: 10.7s\tremaining: 18.3s\n",
      "74:\tlearn: 0.3620887\ttotal: 10.9s\tremaining: 18.1s\n",
      "75:\tlearn: 0.3597848\ttotal: 11s\tremaining: 18s\n",
      "76:\tlearn: 0.3567013\ttotal: 11.2s\tremaining: 17.8s\n",
      "77:\tlearn: 0.3538129\ttotal: 11.3s\tremaining: 17.7s\n",
      "78:\tlearn: 0.3518470\ttotal: 11.5s\tremaining: 17.6s\n",
      "79:\tlearn: 0.3495230\ttotal: 11.6s\tremaining: 17.4s\n",
      "80:\tlearn: 0.3475502\ttotal: 11.7s\tremaining: 17.3s\n",
      "81:\tlearn: 0.3452833\ttotal: 11.9s\tremaining: 17.1s\n",
      "82:\tlearn: 0.3433658\ttotal: 12s\tremaining: 17s\n",
      "83:\tlearn: 0.3411204\ttotal: 12.2s\tremaining: 16.8s\n",
      "84:\tlearn: 0.3390647\ttotal: 12.3s\tremaining: 16.7s\n",
      "85:\tlearn: 0.3370173\ttotal: 12.4s\tremaining: 16.5s\n",
      "86:\tlearn: 0.3345517\ttotal: 12.6s\tremaining: 16.3s\n",
      "87:\tlearn: 0.3329895\ttotal: 12.7s\tremaining: 16.2s\n",
      "88:\tlearn: 0.3315016\ttotal: 12.9s\tremaining: 16.1s\n",
      "89:\tlearn: 0.3292230\ttotal: 13s\tremaining: 15.9s\n",
      "90:\tlearn: 0.3273191\ttotal: 13.2s\tremaining: 15.8s\n",
      "91:\tlearn: 0.3247706\ttotal: 13.3s\tremaining: 15.6s\n",
      "92:\tlearn: 0.3229158\ttotal: 13.4s\tremaining: 15.5s\n",
      "93:\tlearn: 0.3205172\ttotal: 13.6s\tremaining: 15.3s\n",
      "94:\tlearn: 0.3182991\ttotal: 13.7s\tremaining: 15.2s\n",
      "95:\tlearn: 0.3164651\ttotal: 13.9s\tremaining: 15s\n",
      "96:\tlearn: 0.3145623\ttotal: 14s\tremaining: 14.9s\n",
      "97:\tlearn: 0.3129256\ttotal: 14.2s\tremaining: 14.7s\n",
      "98:\tlearn: 0.3102601\ttotal: 14.3s\tremaining: 14.6s\n",
      "99:\tlearn: 0.3084525\ttotal: 14.4s\tremaining: 14.4s\n",
      "100:\tlearn: 0.3072059\ttotal: 14.6s\tremaining: 14.3s\n",
      "101:\tlearn: 0.3056073\ttotal: 14.7s\tremaining: 14.2s\n",
      "102:\tlearn: 0.3037674\ttotal: 14.9s\tremaining: 14s\n",
      "103:\tlearn: 0.3024164\ttotal: 15s\tremaining: 13.9s\n",
      "104:\tlearn: 0.3004705\ttotal: 15.2s\tremaining: 13.7s\n",
      "105:\tlearn: 0.2992225\ttotal: 15.3s\tremaining: 13.6s\n",
      "106:\tlearn: 0.2974359\ttotal: 15.5s\tremaining: 13.4s\n",
      "107:\tlearn: 0.2960249\ttotal: 15.6s\tremaining: 13.3s\n",
      "108:\tlearn: 0.2937013\ttotal: 15.7s\tremaining: 13.1s\n",
      "109:\tlearn: 0.2916267\ttotal: 15.9s\tremaining: 13s\n",
      "110:\tlearn: 0.2896778\ttotal: 16s\tremaining: 12.9s\n",
      "111:\tlearn: 0.2883365\ttotal: 16.2s\tremaining: 12.7s\n",
      "112:\tlearn: 0.2867064\ttotal: 16.3s\tremaining: 12.6s\n",
      "113:\tlearn: 0.2850627\ttotal: 16.5s\tremaining: 12.4s\n",
      "114:\tlearn: 0.2835362\ttotal: 16.6s\tremaining: 12.3s\n",
      "115:\tlearn: 0.2817162\ttotal: 16.8s\tremaining: 12.1s\n",
      "116:\tlearn: 0.2799654\ttotal: 16.9s\tremaining: 12s\n",
      "117:\tlearn: 0.2783423\ttotal: 17.1s\tremaining: 11.9s\n",
      "118:\tlearn: 0.2767278\ttotal: 17.2s\tremaining: 11.7s\n",
      "119:\tlearn: 0.2753997\ttotal: 17.4s\tremaining: 11.6s\n",
      "120:\tlearn: 0.2737804\ttotal: 17.5s\tremaining: 11.4s\n",
      "121:\tlearn: 0.2720411\ttotal: 17.7s\tremaining: 11.3s\n",
      "122:\tlearn: 0.2705591\ttotal: 17.8s\tremaining: 11.2s\n",
      "123:\tlearn: 0.2696310\ttotal: 18s\tremaining: 11s\n",
      "124:\tlearn: 0.2685846\ttotal: 18.1s\tremaining: 10.9s\n",
      "125:\tlearn: 0.2678633\ttotal: 18.3s\tremaining: 10.7s\n",
      "126:\tlearn: 0.2663168\ttotal: 18.4s\tremaining: 10.6s\n",
      "127:\tlearn: 0.2646619\ttotal: 18.5s\tremaining: 10.4s\n",
      "128:\tlearn: 0.2632809\ttotal: 18.7s\tremaining: 10.3s\n",
      "129:\tlearn: 0.2620998\ttotal: 18.8s\tremaining: 10.1s\n",
      "130:\tlearn: 0.2608194\ttotal: 19s\tremaining: 9.99s\n",
      "131:\tlearn: 0.2595905\ttotal: 19.1s\tremaining: 9.84s\n",
      "132:\tlearn: 0.2584409\ttotal: 19.2s\tremaining: 9.7s\n",
      "133:\tlearn: 0.2571402\ttotal: 19.4s\tremaining: 9.55s\n",
      "134:\tlearn: 0.2556843\ttotal: 19.5s\tremaining: 9.41s\n",
      "135:\tlearn: 0.2543553\ttotal: 19.7s\tremaining: 9.26s\n",
      "136:\tlearn: 0.2531184\ttotal: 19.8s\tremaining: 9.12s\n",
      "137:\tlearn: 0.2519718\ttotal: 20s\tremaining: 8.97s\n",
      "138:\tlearn: 0.2511234\ttotal: 20.1s\tremaining: 8.83s\n",
      "139:\tlearn: 0.2498232\ttotal: 20.3s\tremaining: 8.68s\n",
      "140:\tlearn: 0.2490571\ttotal: 20.4s\tremaining: 8.54s\n",
      "141:\tlearn: 0.2476611\ttotal: 20.5s\tremaining: 8.39s\n",
      "142:\tlearn: 0.2464133\ttotal: 20.7s\tremaining: 8.25s\n",
      "143:\tlearn: 0.2450485\ttotal: 20.8s\tremaining: 8.1s\n",
      "144:\tlearn: 0.2441661\ttotal: 21s\tremaining: 7.95s\n",
      "145:\tlearn: 0.2428665\ttotal: 21.1s\tremaining: 7.81s\n",
      "146:\tlearn: 0.2417000\ttotal: 21.3s\tremaining: 7.66s\n",
      "147:\tlearn: 0.2406958\ttotal: 21.4s\tremaining: 7.52s\n",
      "148:\tlearn: 0.2397167\ttotal: 21.5s\tremaining: 7.37s\n",
      "149:\tlearn: 0.2387650\ttotal: 21.7s\tremaining: 7.23s\n",
      "150:\tlearn: 0.2374496\ttotal: 21.8s\tremaining: 7.08s\n",
      "151:\tlearn: 0.2360286\ttotal: 22s\tremaining: 6.94s\n",
      "152:\tlearn: 0.2346836\ttotal: 22.1s\tremaining: 6.79s\n",
      "153:\tlearn: 0.2335367\ttotal: 22.3s\tremaining: 6.65s\n",
      "154:\tlearn: 0.2323738\ttotal: 22.4s\tremaining: 6.51s\n",
      "155:\tlearn: 0.2312961\ttotal: 22.6s\tremaining: 6.36s\n",
      "156:\tlearn: 0.2299113\ttotal: 22.7s\tremaining: 6.22s\n",
      "157:\tlearn: 0.2292167\ttotal: 22.8s\tremaining: 6.07s\n",
      "158:\tlearn: 0.2278117\ttotal: 23s\tremaining: 5.93s\n",
      "159:\tlearn: 0.2266818\ttotal: 23.1s\tremaining: 5.78s\n",
      "160:\tlearn: 0.2255044\ttotal: 23.3s\tremaining: 5.63s\n"
     ]
    },
    {
     "name": "stdout",
     "output_type": "stream",
     "text": [
      "161:\tlearn: 0.2245631\ttotal: 23.4s\tremaining: 5.49s\n",
      "162:\tlearn: 0.2230793\ttotal: 23.5s\tremaining: 5.34s\n",
      "163:\tlearn: 0.2220582\ttotal: 23.7s\tremaining: 5.2s\n",
      "164:\tlearn: 0.2210644\ttotal: 23.8s\tremaining: 5.05s\n",
      "165:\tlearn: 0.2200600\ttotal: 24s\tremaining: 4.91s\n",
      "166:\tlearn: 0.2190791\ttotal: 24.1s\tremaining: 4.76s\n",
      "167:\tlearn: 0.2180779\ttotal: 24.2s\tremaining: 4.62s\n",
      "168:\tlearn: 0.2169274\ttotal: 24.4s\tremaining: 4.47s\n",
      "169:\tlearn: 0.2158644\ttotal: 24.5s\tremaining: 4.33s\n",
      "170:\tlearn: 0.2148892\ttotal: 24.7s\tremaining: 4.18s\n",
      "171:\tlearn: 0.2142747\ttotal: 24.8s\tremaining: 4.04s\n",
      "172:\tlearn: 0.2134825\ttotal: 24.9s\tremaining: 3.89s\n",
      "173:\tlearn: 0.2127460\ttotal: 25.1s\tremaining: 3.75s\n",
      "174:\tlearn: 0.2118997\ttotal: 25.2s\tremaining: 3.6s\n",
      "175:\tlearn: 0.2109294\ttotal: 25.4s\tremaining: 3.46s\n",
      "176:\tlearn: 0.2099285\ttotal: 25.6s\tremaining: 3.32s\n",
      "177:\tlearn: 0.2090588\ttotal: 25.7s\tremaining: 3.18s\n",
      "178:\tlearn: 0.2079300\ttotal: 25.9s\tremaining: 3.03s\n",
      "179:\tlearn: 0.2072312\ttotal: 26s\tremaining: 2.89s\n",
      "180:\tlearn: 0.2063536\ttotal: 26.2s\tremaining: 2.75s\n",
      "181:\tlearn: 0.2054515\ttotal: 26.3s\tremaining: 2.6s\n",
      "182:\tlearn: 0.2046626\ttotal: 26.5s\tremaining: 2.46s\n",
      "183:\tlearn: 0.2037923\ttotal: 26.7s\tremaining: 2.32s\n",
      "184:\tlearn: 0.2032049\ttotal: 26.8s\tremaining: 2.17s\n",
      "185:\tlearn: 0.2022063\ttotal: 27s\tremaining: 2.03s\n",
      "186:\tlearn: 0.2013126\ttotal: 27.1s\tremaining: 1.89s\n",
      "187:\tlearn: 0.2003690\ttotal: 27.3s\tremaining: 1.74s\n",
      "188:\tlearn: 0.1996022\ttotal: 27.4s\tremaining: 1.59s\n",
      "189:\tlearn: 0.1990735\ttotal: 27.6s\tremaining: 1.45s\n",
      "190:\tlearn: 0.1981410\ttotal: 27.7s\tremaining: 1.31s\n",
      "191:\tlearn: 0.1975136\ttotal: 27.9s\tremaining: 1.16s\n",
      "192:\tlearn: 0.1968625\ttotal: 28s\tremaining: 1.02s\n",
      "193:\tlearn: 0.1960705\ttotal: 28.2s\tremaining: 872ms\n",
      "194:\tlearn: 0.1951795\ttotal: 28.4s\tremaining: 727ms\n",
      "195:\tlearn: 0.1943366\ttotal: 28.5s\tremaining: 582ms\n",
      "196:\tlearn: 0.1936411\ttotal: 28.7s\tremaining: 437ms\n",
      "197:\tlearn: 0.1928195\ttotal: 28.8s\tremaining: 291ms\n",
      "198:\tlearn: 0.1918195\ttotal: 29s\tremaining: 146ms\n",
      "199:\tlearn: 0.1911386\ttotal: 29.1s\tremaining: 0us\n",
      "Accuracy: 0.7540983606557377\n",
      "Most important features:\n",
      "1. mudakoff\n",
      "2. ovsyanochan\n",
      "3. dayvinchik\n",
      "4. 4ch\n",
      "5. styd.pozor\n",
      "6. exclusive_muzic\n",
      "7. kino_mania\n",
      "8. rapnewrap\n",
      "9. rhymes\n",
      "10. leprum\n"
     ]
    }
   ],
   "source": [
    "clf.fit(X_train, y_age_train)\n",
    "y_pred = clf.predict(X_test).flatten()\n",
    "print(\"Accuracy:\", np.mean(y_pred == y_age_test))\n",
    "print(\"Most important features:\")\n",
    "for i, name in enumerate(most_important_features(clf.feature_importances_, features, 10)):\n",
    "    print(str(i+1) + \".\", name)"
   ]
  },
  {
   "cell_type": "code",
   "execution_count": 82,
   "metadata": {},
   "outputs": [],
   "source": [
    "clf.save_model(\"model_age\")"
   ]
  },
  {
   "cell_type": "code",
   "execution_count": 83,
   "metadata": {},
   "outputs": [
    {
     "name": "stdout",
     "output_type": "stream",
     "text": [
      "Accuracy: 0.7477931904161412\n"
     ]
    }
   ],
   "source": [
    "y_pred = xgb.predict(X_test).flatten()\n",
    "print(\"Accuracy:\", np.mean(y_pred == y_age_test))"
   ]
  },
  {
   "cell_type": "markdown",
   "metadata": {},
   "source": [
    "#### Пол"
   ]
  },
  {
   "cell_type": "code",
   "execution_count": 102,
   "metadata": {},
   "outputs": [],
   "source": [
    "clf1 = CatBoostClassifier(n_estimators=200, min_data_in_leaf=30, max_depth=7, loss_function='MultiClass')"
   ]
  },
  {
   "cell_type": "code",
   "execution_count": 103,
   "metadata": {},
   "outputs": [
    {
     "name": "stdout",
     "output_type": "stream",
     "text": [
      "Learning rate set to 0.336913\n",
      "0:\tlearn: 0.6188799\ttotal: 11.4ms\tremaining: 2.27s\n",
      "1:\tlearn: 0.5714152\ttotal: 23.6ms\tremaining: 2.34s\n",
      "2:\tlearn: 0.5370335\ttotal: 36ms\tremaining: 2.36s\n",
      "3:\tlearn: 0.5065943\ttotal: 49.9ms\tremaining: 2.45s\n",
      "4:\tlearn: 0.4861830\ttotal: 63.6ms\tremaining: 2.48s\n",
      "5:\tlearn: 0.4706003\ttotal: 75.6ms\tremaining: 2.44s\n",
      "6:\tlearn: 0.4540057\ttotal: 87.5ms\tremaining: 2.41s\n",
      "7:\tlearn: 0.4386258\ttotal: 99.4ms\tremaining: 2.38s\n",
      "8:\tlearn: 0.4260635\ttotal: 112ms\tremaining: 2.38s\n",
      "9:\tlearn: 0.4167468\ttotal: 125ms\tremaining: 2.38s\n",
      "10:\tlearn: 0.4066223\ttotal: 137ms\tremaining: 2.36s\n",
      "11:\tlearn: 0.3995241\ttotal: 149ms\tremaining: 2.33s\n",
      "12:\tlearn: 0.3902590\ttotal: 162ms\tremaining: 2.33s\n",
      "13:\tlearn: 0.3842166\ttotal: 174ms\tremaining: 2.31s\n",
      "14:\tlearn: 0.3784623\ttotal: 186ms\tremaining: 2.29s\n",
      "15:\tlearn: 0.3727293\ttotal: 213ms\tremaining: 2.45s\n",
      "16:\tlearn: 0.3690681\ttotal: 225ms\tremaining: 2.43s\n",
      "17:\tlearn: 0.3647909\ttotal: 237ms\tremaining: 2.4s\n",
      "18:\tlearn: 0.3609908\ttotal: 248ms\tremaining: 2.37s\n",
      "19:\tlearn: 0.3563148\ttotal: 260ms\tremaining: 2.34s\n",
      "20:\tlearn: 0.3529676\ttotal: 272ms\tremaining: 2.32s\n",
      "21:\tlearn: 0.3496867\ttotal: 284ms\tremaining: 2.3s\n",
      "22:\tlearn: 0.3457748\ttotal: 296ms\tremaining: 2.28s\n",
      "23:\tlearn: 0.3429156\ttotal: 308ms\tremaining: 2.25s\n",
      "24:\tlearn: 0.3393879\ttotal: 320ms\tremaining: 2.24s\n",
      "25:\tlearn: 0.3368735\ttotal: 331ms\tremaining: 2.22s\n",
      "26:\tlearn: 0.3342254\ttotal: 343ms\tremaining: 2.2s\n",
      "27:\tlearn: 0.3311406\ttotal: 354ms\tremaining: 2.18s\n",
      "28:\tlearn: 0.3286134\ttotal: 366ms\tremaining: 2.16s\n",
      "29:\tlearn: 0.3263081\ttotal: 378ms\tremaining: 2.14s\n",
      "30:\tlearn: 0.3239324\ttotal: 390ms\tremaining: 2.13s\n",
      "31:\tlearn: 0.3216414\ttotal: 403ms\tremaining: 2.12s\n",
      "32:\tlearn: 0.3194811\ttotal: 418ms\tremaining: 2.12s\n",
      "33:\tlearn: 0.3164138\ttotal: 431ms\tremaining: 2.11s\n",
      "34:\tlearn: 0.3140109\ttotal: 444ms\tremaining: 2.09s\n",
      "35:\tlearn: 0.3115780\ttotal: 456ms\tremaining: 2.08s\n",
      "36:\tlearn: 0.3096978\ttotal: 469ms\tremaining: 2.06s\n",
      "37:\tlearn: 0.3077389\ttotal: 481ms\tremaining: 2.05s\n",
      "38:\tlearn: 0.3054232\ttotal: 493ms\tremaining: 2.04s\n",
      "39:\tlearn: 0.3038775\ttotal: 505ms\tremaining: 2.02s\n",
      "40:\tlearn: 0.3023095\ttotal: 517ms\tremaining: 2s\n",
      "41:\tlearn: 0.3005766\ttotal: 530ms\tremaining: 2s\n",
      "42:\tlearn: 0.2985516\ttotal: 542ms\tremaining: 1.98s\n",
      "43:\tlearn: 0.2966592\ttotal: 554ms\tremaining: 1.97s\n",
      "44:\tlearn: 0.2947689\ttotal: 573ms\tremaining: 1.97s\n",
      "45:\tlearn: 0.2930932\ttotal: 585ms\tremaining: 1.96s\n",
      "46:\tlearn: 0.2911358\ttotal: 598ms\tremaining: 1.95s\n",
      "47:\tlearn: 0.2901547\ttotal: 611ms\tremaining: 1.94s\n",
      "48:\tlearn: 0.2888786\ttotal: 625ms\tremaining: 1.93s\n",
      "49:\tlearn: 0.2871144\ttotal: 638ms\tremaining: 1.91s\n",
      "50:\tlearn: 0.2857950\ttotal: 650ms\tremaining: 1.9s\n",
      "51:\tlearn: 0.2844329\ttotal: 661ms\tremaining: 1.88s\n",
      "52:\tlearn: 0.2829748\ttotal: 673ms\tremaining: 1.86s\n",
      "53:\tlearn: 0.2817917\ttotal: 684ms\tremaining: 1.85s\n",
      "54:\tlearn: 0.2797155\ttotal: 696ms\tremaining: 1.83s\n",
      "55:\tlearn: 0.2781863\ttotal: 708ms\tremaining: 1.82s\n",
      "56:\tlearn: 0.2770311\ttotal: 720ms\tremaining: 1.8s\n",
      "57:\tlearn: 0.2756230\ttotal: 732ms\tremaining: 1.79s\n",
      "58:\tlearn: 0.2743538\ttotal: 744ms\tremaining: 1.78s\n",
      "59:\tlearn: 0.2729954\ttotal: 756ms\tremaining: 1.76s\n",
      "60:\tlearn: 0.2713610\ttotal: 768ms\tremaining: 1.75s\n",
      "61:\tlearn: 0.2698316\ttotal: 781ms\tremaining: 1.74s\n",
      "62:\tlearn: 0.2687040\ttotal: 796ms\tremaining: 1.73s\n",
      "63:\tlearn: 0.2675386\ttotal: 809ms\tremaining: 1.72s\n",
      "64:\tlearn: 0.2664829\ttotal: 823ms\tremaining: 1.71s\n",
      "65:\tlearn: 0.2652489\ttotal: 835ms\tremaining: 1.7s\n",
      "66:\tlearn: 0.2637995\ttotal: 849ms\tremaining: 1.69s\n",
      "67:\tlearn: 0.2627486\ttotal: 863ms\tremaining: 1.68s\n",
      "68:\tlearn: 0.2618749\ttotal: 877ms\tremaining: 1.67s\n",
      "69:\tlearn: 0.2606551\ttotal: 890ms\tremaining: 1.65s\n",
      "70:\tlearn: 0.2595966\ttotal: 902ms\tremaining: 1.64s\n",
      "71:\tlearn: 0.2583472\ttotal: 915ms\tremaining: 1.63s\n",
      "72:\tlearn: 0.2571519\ttotal: 928ms\tremaining: 1.61s\n",
      "73:\tlearn: 0.2558959\ttotal: 941ms\tremaining: 1.6s\n",
      "74:\tlearn: 0.2548097\ttotal: 954ms\tremaining: 1.59s\n",
      "75:\tlearn: 0.2535470\ttotal: 967ms\tremaining: 1.58s\n",
      "76:\tlearn: 0.2525215\ttotal: 979ms\tremaining: 1.56s\n",
      "77:\tlearn: 0.2516614\ttotal: 993ms\tremaining: 1.55s\n",
      "78:\tlearn: 0.2509347\ttotal: 1.01s\tremaining: 1.54s\n",
      "79:\tlearn: 0.2498966\ttotal: 1.02s\tremaining: 1.53s\n",
      "80:\tlearn: 0.2491262\ttotal: 1.03s\tremaining: 1.52s\n",
      "81:\tlearn: 0.2478805\ttotal: 1.05s\tremaining: 1.51s\n",
      "82:\tlearn: 0.2467474\ttotal: 1.06s\tremaining: 1.5s\n",
      "83:\tlearn: 0.2459953\ttotal: 1.07s\tremaining: 1.48s\n",
      "84:\tlearn: 0.2451130\ttotal: 1.08s\tremaining: 1.47s\n",
      "85:\tlearn: 0.2443974\ttotal: 1.1s\tremaining: 1.45s\n",
      "86:\tlearn: 0.2435481\ttotal: 1.11s\tremaining: 1.44s\n",
      "87:\tlearn: 0.2425691\ttotal: 1.12s\tremaining: 1.43s\n",
      "88:\tlearn: 0.2414909\ttotal: 1.13s\tremaining: 1.41s\n",
      "89:\tlearn: 0.2410018\ttotal: 1.15s\tremaining: 1.4s\n",
      "90:\tlearn: 0.2401289\ttotal: 1.16s\tremaining: 1.39s\n",
      "91:\tlearn: 0.2393453\ttotal: 1.17s\tremaining: 1.37s\n",
      "92:\tlearn: 0.2381662\ttotal: 1.18s\tremaining: 1.36s\n",
      "93:\tlearn: 0.2371593\ttotal: 1.19s\tremaining: 1.34s\n",
      "94:\tlearn: 0.2363945\ttotal: 1.21s\tremaining: 1.33s\n",
      "95:\tlearn: 0.2354021\ttotal: 1.22s\tremaining: 1.32s\n",
      "96:\tlearn: 0.2347348\ttotal: 1.23s\tremaining: 1.31s\n",
      "97:\tlearn: 0.2339889\ttotal: 1.24s\tremaining: 1.29s\n",
      "98:\tlearn: 0.2326066\ttotal: 1.26s\tremaining: 1.28s\n",
      "99:\tlearn: 0.2318688\ttotal: 1.27s\tremaining: 1.27s\n",
      "100:\tlearn: 0.2311972\ttotal: 1.28s\tremaining: 1.26s\n",
      "101:\tlearn: 0.2302076\ttotal: 1.3s\tremaining: 1.25s\n",
      "102:\tlearn: 0.2290493\ttotal: 1.31s\tremaining: 1.24s\n",
      "103:\tlearn: 0.2285943\ttotal: 1.32s\tremaining: 1.22s\n",
      "104:\tlearn: 0.2279061\ttotal: 1.34s\tremaining: 1.21s\n",
      "105:\tlearn: 0.2270164\ttotal: 1.35s\tremaining: 1.2s\n",
      "106:\tlearn: 0.2264276\ttotal: 1.36s\tremaining: 1.19s\n",
      "107:\tlearn: 0.2259714\ttotal: 1.38s\tremaining: 1.17s\n",
      "108:\tlearn: 0.2254181\ttotal: 1.39s\tremaining: 1.16s\n",
      "109:\tlearn: 0.2245721\ttotal: 1.41s\tremaining: 1.15s\n",
      "110:\tlearn: 0.2236202\ttotal: 1.42s\tremaining: 1.14s\n",
      "111:\tlearn: 0.2226900\ttotal: 1.44s\tremaining: 1.13s\n",
      "112:\tlearn: 0.2219961\ttotal: 1.45s\tremaining: 1.12s\n",
      "113:\tlearn: 0.2210730\ttotal: 1.46s\tremaining: 1.1s\n",
      "114:\tlearn: 0.2201802\ttotal: 1.48s\tremaining: 1.09s\n",
      "115:\tlearn: 0.2193294\ttotal: 1.49s\tremaining: 1.08s\n",
      "116:\tlearn: 0.2183480\ttotal: 1.5s\tremaining: 1.07s\n",
      "117:\tlearn: 0.2171947\ttotal: 1.51s\tremaining: 1.05s\n",
      "118:\tlearn: 0.2165927\ttotal: 1.52s\tremaining: 1.04s\n",
      "119:\tlearn: 0.2159463\ttotal: 1.54s\tremaining: 1.02s\n",
      "120:\tlearn: 0.2154366\ttotal: 1.55s\tremaining: 1.01s\n",
      "121:\tlearn: 0.2147850\ttotal: 1.56s\tremaining: 997ms\n",
      "122:\tlearn: 0.2139920\ttotal: 1.57s\tremaining: 983ms\n",
      "123:\tlearn: 0.2132485\ttotal: 1.58s\tremaining: 969ms\n",
      "124:\tlearn: 0.2125677\ttotal: 1.59s\tremaining: 956ms\n",
      "125:\tlearn: 0.2118682\ttotal: 1.6s\tremaining: 942ms\n",
      "126:\tlearn: 0.2113078\ttotal: 1.61s\tremaining: 929ms\n",
      "127:\tlearn: 0.2107317\ttotal: 1.64s\tremaining: 923ms\n",
      "128:\tlearn: 0.2099927\ttotal: 1.65s\tremaining: 910ms\n",
      "129:\tlearn: 0.2093406\ttotal: 1.67s\tremaining: 898ms\n",
      "130:\tlearn: 0.2085046\ttotal: 1.68s\tremaining: 884ms\n",
      "131:\tlearn: 0.2075852\ttotal: 1.69s\tremaining: 871ms\n",
      "132:\tlearn: 0.2069021\ttotal: 1.7s\tremaining: 857ms\n",
      "133:\tlearn: 0.2060663\ttotal: 1.71s\tremaining: 844ms\n",
      "134:\tlearn: 0.2054375\ttotal: 1.72s\tremaining: 830ms\n",
      "135:\tlearn: 0.2045270\ttotal: 1.74s\tremaining: 817ms\n",
      "136:\tlearn: 0.2039485\ttotal: 1.75s\tremaining: 804ms\n",
      "137:\tlearn: 0.2034712\ttotal: 1.76s\tremaining: 791ms\n",
      "138:\tlearn: 0.2029439\ttotal: 1.77s\tremaining: 777ms\n",
      "139:\tlearn: 0.2025078\ttotal: 1.78s\tremaining: 763ms\n",
      "140:\tlearn: 0.2017001\ttotal: 1.79s\tremaining: 750ms\n",
      "141:\tlearn: 0.2011852\ttotal: 1.8s\tremaining: 737ms\n",
      "142:\tlearn: 0.2007310\ttotal: 1.82s\tremaining: 725ms\n",
      "143:\tlearn: 0.2001818\ttotal: 1.83s\tremaining: 711ms\n",
      "144:\tlearn: 0.1992217\ttotal: 1.84s\tremaining: 698ms\n",
      "145:\tlearn: 0.1984918\ttotal: 1.85s\tremaining: 685ms\n",
      "146:\tlearn: 0.1979916\ttotal: 1.86s\tremaining: 672ms\n",
      "147:\tlearn: 0.1975162\ttotal: 1.89s\tremaining: 664ms\n",
      "148:\tlearn: 0.1971644\ttotal: 1.9s\tremaining: 651ms\n",
      "149:\tlearn: 0.1968383\ttotal: 1.91s\tremaining: 638ms\n",
      "150:\tlearn: 0.1964271\ttotal: 1.94s\tremaining: 630ms\n",
      "151:\tlearn: 0.1959457\ttotal: 1.95s\tremaining: 617ms\n",
      "152:\tlearn: 0.1953015\ttotal: 1.97s\tremaining: 604ms\n",
      "153:\tlearn: 0.1944558\ttotal: 1.98s\tremaining: 591ms\n",
      "154:\tlearn: 0.1941964\ttotal: 1.99s\tremaining: 578ms\n",
      "155:\tlearn: 0.1935768\ttotal: 2s\tremaining: 564ms\n",
      "156:\tlearn: 0.1931027\ttotal: 2.01s\tremaining: 551ms\n",
      "157:\tlearn: 0.1926072\ttotal: 2.02s\tremaining: 538ms\n",
      "158:\tlearn: 0.1919312\ttotal: 2.03s\tremaining: 524ms\n",
      "159:\tlearn: 0.1910136\ttotal: 2.04s\tremaining: 511ms\n"
     ]
    },
    {
     "name": "stdout",
     "output_type": "stream",
     "text": [
      "160:\tlearn: 0.1902333\ttotal: 2.06s\tremaining: 498ms\n",
      "161:\tlearn: 0.1896788\ttotal: 2.07s\tremaining: 485ms\n",
      "162:\tlearn: 0.1891359\ttotal: 2.08s\tremaining: 472ms\n",
      "163:\tlearn: 0.1885947\ttotal: 2.09s\tremaining: 460ms\n",
      "164:\tlearn: 0.1879525\ttotal: 2.11s\tremaining: 447ms\n",
      "165:\tlearn: 0.1874780\ttotal: 2.12s\tremaining: 434ms\n",
      "166:\tlearn: 0.1869372\ttotal: 2.13s\tremaining: 421ms\n",
      "167:\tlearn: 0.1864122\ttotal: 2.14s\tremaining: 408ms\n",
      "168:\tlearn: 0.1857789\ttotal: 2.15s\tremaining: 395ms\n",
      "169:\tlearn: 0.1853366\ttotal: 2.17s\tremaining: 383ms\n",
      "170:\tlearn: 0.1846805\ttotal: 2.18s\tremaining: 370ms\n",
      "171:\tlearn: 0.1842780\ttotal: 2.19s\tremaining: 357ms\n",
      "172:\tlearn: 0.1838069\ttotal: 2.21s\tremaining: 344ms\n",
      "173:\tlearn: 0.1833261\ttotal: 2.22s\tremaining: 331ms\n",
      "174:\tlearn: 0.1826601\ttotal: 2.23s\tremaining: 319ms\n",
      "175:\tlearn: 0.1822172\ttotal: 2.24s\tremaining: 306ms\n",
      "176:\tlearn: 0.1816212\ttotal: 2.25s\tremaining: 293ms\n",
      "177:\tlearn: 0.1812408\ttotal: 2.27s\tremaining: 280ms\n",
      "178:\tlearn: 0.1807972\ttotal: 2.28s\tremaining: 267ms\n",
      "179:\tlearn: 0.1802156\ttotal: 2.29s\tremaining: 255ms\n",
      "180:\tlearn: 0.1799193\ttotal: 2.3s\tremaining: 242ms\n",
      "181:\tlearn: 0.1795048\ttotal: 2.32s\tremaining: 229ms\n",
      "182:\tlearn: 0.1791220\ttotal: 2.33s\tremaining: 216ms\n",
      "183:\tlearn: 0.1786747\ttotal: 2.34s\tremaining: 204ms\n",
      "184:\tlearn: 0.1782632\ttotal: 2.35s\tremaining: 191ms\n",
      "185:\tlearn: 0.1778968\ttotal: 2.36s\tremaining: 178ms\n",
      "186:\tlearn: 0.1776183\ttotal: 2.38s\tremaining: 165ms\n",
      "187:\tlearn: 0.1773564\ttotal: 2.39s\tremaining: 153ms\n",
      "188:\tlearn: 0.1768543\ttotal: 2.4s\tremaining: 140ms\n",
      "189:\tlearn: 0.1763781\ttotal: 2.42s\tremaining: 127ms\n",
      "190:\tlearn: 0.1758717\ttotal: 2.43s\tremaining: 114ms\n",
      "191:\tlearn: 0.1754730\ttotal: 2.44s\tremaining: 102ms\n",
      "192:\tlearn: 0.1748788\ttotal: 2.45s\tremaining: 89ms\n",
      "193:\tlearn: 0.1745624\ttotal: 2.47s\tremaining: 76.3ms\n",
      "194:\tlearn: 0.1737375\ttotal: 2.48s\tremaining: 63.6ms\n",
      "195:\tlearn: 0.1732617\ttotal: 2.5s\tremaining: 50.9ms\n",
      "196:\tlearn: 0.1727162\ttotal: 2.51s\tremaining: 38.2ms\n",
      "197:\tlearn: 0.1718379\ttotal: 2.52s\tremaining: 25.5ms\n",
      "198:\tlearn: 0.1712175\ttotal: 2.54s\tremaining: 12.8ms\n",
      "199:\tlearn: 0.1707010\ttotal: 2.55s\tremaining: 0us\n",
      "Accuracy: 0.8663303909205549\n",
      "Most important features:\n",
      "1. 40kg\n",
      "2. mudakoff\n",
      "3. girlmeme\n",
      "4. modnailru\n",
      "5. thesmolny\n",
      "6. academyofman\n",
      "7. femalemem\n",
      "8. 9o_6o_9o\n",
      "9. rapnewrap\n",
      "10. i_d_t\n"
     ]
    }
   ],
   "source": [
    "clf1.fit(X_train, y_sex_train)\n",
    "y_pred = clf1.predict(X_test).flatten()\n",
    "print(\"Accuracy:\", np.mean(y_pred == y_sex_test))\n",
    "print(\"Most important features:\")\n",
    "for i, name in enumerate(most_important_features(clf1.feature_importances_, features, 10)):\n",
    "    print(str(i+1) + \".\", name)"
   ]
  },
  {
   "cell_type": "code",
   "execution_count": 106,
   "metadata": {},
   "outputs": [],
   "source": [
    "clf1.save_model(\"model_sex\") "
   ]
  },
  {
   "cell_type": "code",
   "execution_count": 7,
   "metadata": {},
   "outputs": [
    {
     "data": {
      "text/plain": [
       "0.6666666666666666"
      ]
     },
     "execution_count": 7,
     "metadata": {},
     "output_type": "execute_result"
    }
   ],
   "source": [
    "8/12"
   ]
  },
  {
   "cell_type": "code",
   "execution_count": null,
   "metadata": {},
   "outputs": [],
   "source": []
  }
 ],
 "metadata": {
  "kernelspec": {
   "display_name": "Python 3 (ipykernel)",
   "language": "python",
   "name": "python3"
  },
  "language_info": {
   "codemirror_mode": {
    "name": "ipython",
    "version": 3
   },
   "file_extension": ".py",
   "mimetype": "text/x-python",
   "name": "python",
   "nbconvert_exporter": "python",
   "pygments_lexer": "ipython3",
   "version": "3.11.3"
  }
 },
 "nbformat": 4,
 "nbformat_minor": 2
}
